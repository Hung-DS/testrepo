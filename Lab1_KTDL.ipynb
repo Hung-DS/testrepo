{
  "cells": [
    {
      "cell_type": "markdown",
      "id": "054f17ed",
      "metadata": {
        "id": "054f17ed"
      },
      "source": [
        "# Lab 02 - Bài tập"
      ]
    },
    {
      "cell_type": "markdown",
      "id": "d093f5b3",
      "metadata": {
        "id": "d093f5b3"
      },
      "source": [
        "---\n",
        "\n",
        "## THÔNG TIN\n",
        "\n",
        "- Họ tên: Nguyễn Văn Hùng\n",
        "- MSV: 23668291\n",
        "- Ngày hoàn thành: 11/1/2025"
      ]
    },
    {
      "cell_type": "markdown",
      "id": "e63fbe23",
      "metadata": {
        "id": "e63fbe23"
      },
      "source": [
        "---\n",
        "## NUMPY\n",
        "\n",
        "Bạn hãy phát sinh ngẫu nhiên mảng ndarray có tên `arr` gồm 100 phần tử số nguyên có giá trị từ 0..1000. Thực hiện các thao tác sau:"
      ]
    },
    {
      "cell_type": "markdown",
      "id": "f462030f",
      "metadata": {
        "id": "f462030f"
      },
      "source": [
        "### 1. Hiển thị các phần tử thỏa yêu cầu dưới đây\n",
        "\n",
        "- 10 phần tử đầu tiên\n",
        "- 5 phần tử cuối cùng\n",
        "- Các phần tử thỏa mãn điều kiện chia hết cho 5 và lớn hơn 100"
      ]
    },
    {
      "cell_type": "code",
      "execution_count": null,
      "id": "c785d08d",
      "metadata": {
        "colab": {
          "base_uri": "https://localhost:8080/"
        },
        "id": "c785d08d",
        "outputId": "fac80c96-c48d-458b-83b0-ff45db1dffe0"
      },
      "outputs": [
        {
          "output_type": "stream",
          "name": "stdout",
          "text": [
            "[567  98 597 581 339 910 189 637 699 758 145  67 159 634 804 357 559  72\n",
            " 637 133 940 792 744 571 476 968 770 705 954 197 615 610 986 896 154 187\n",
            " 411 306 232 553 618 376 112 667 397 602 466 144 547 826  80 725  89 712\n",
            " 963 462 659 467 267 857 812 949  48 258 301 290 897 200 519 735 321 773\n",
            " 181 589 955 306 426  59 782 853 389   7 796 878  85  73 606 201 677 885\n",
            " 296 874 172 778 667 488 684 231 577 937]\n",
            "10 phần tử đầu tiên:  [567  98 597 581 339 910 189 637 699 758]\n",
            "5 phần tử cuối cùng:  [488 684 231 577 937]\n",
            "Các phần tử thỏa mãn điều kiện chia hết cho 5 và lớn hơn 100:  [910 145 940 770 705 615 610 725 290 200 735 955 885]\n"
          ]
        }
      ],
      "source": [
        "import numpy as np\n",
        "arr = np.random.randint(0, 1000, 100)\n",
        "print(arr)\n",
        "print(\"10 phần tử đầu tiên: \", arr[:10])\n",
        "print(\"5 phần tử cuối cùng: \", arr[-5:])\n",
        "print(\"Các phần tử thỏa mãn điều kiện chia hết cho 5 và lớn hơn 100: \", arr[(arr % 5 == 0) & (arr > 100)])"
      ]
    },
    {
      "cell_type": "markdown",
      "id": "1cd7cd06",
      "metadata": {
        "id": "1cd7cd06"
      },
      "source": [
        "### 2. Cho biết mảng trên có bao nhiêu phần tử có giá trị nhỏ hơn 100. Hiển thị các phần tử đó"
      ]
    },
    {
      "cell_type": "code",
      "execution_count": null,
      "id": "e45b320d",
      "metadata": {
        "colab": {
          "base_uri": "https://localhost:8080/"
        },
        "id": "e45b320d",
        "outputId": "eb90a860-1373-4e92-8c66-f8fe6da208d8"
      },
      "outputs": [
        {
          "output_type": "stream",
          "name": "stdout",
          "text": [
            "Các phần tử có giá trị nhỏ hơn 100:  [98 67 72 80 89 48 59  7 85 73]\n",
            "Có 10 phần tử có giá trị nhỏ hơn 100!\n"
          ]
        }
      ],
      "source": [
        "less_then_100 = arr[arr < 100]\n",
        "print(\"Các phần tử có giá trị nhỏ hơn 100: \", less_then_100)\n",
        "print(f\"Có {len(less_then_100)} phần tử có giá trị nhỏ hơn 100!\")"
      ]
    },
    {
      "cell_type": "markdown",
      "id": "93cf52fa",
      "metadata": {
        "id": "93cf52fa"
      },
      "source": [
        "### 3. Thực hiện thống kê:\n",
        "\n",
        "- Tính tổng mảng\n",
        "- Tìm giá trị trung bình\n",
        "- Tìm giá trị trung vị\n",
        "- Tìm Q1, Q2, Q3\n",
        "- Tìm phân vị 20 (percentile 20)"
      ]
    },
    {
      "cell_type": "code",
      "execution_count": null,
      "id": "51d2ec6c",
      "metadata": {
        "colab": {
          "base_uri": "https://localhost:8080/"
        },
        "id": "51d2ec6c",
        "outputId": "2f018e08-7263-4394-f433-f01918806eff"
      },
      "outputs": [
        {
          "output_type": "stream",
          "name": "stdout",
          "text": [
            "Tổng mảng: 51600\n",
            "Giá trị trung bình: 516.0\n",
            "Giá trị trung vị: 569.0\n",
            "Q1: 251.5\n",
            "Q2: 569.0\n",
            "Q3: 761.0\n",
            "Phân vị 20: 195.4\n"
          ]
        }
      ],
      "source": [
        "sum = np.sum(arr)\n",
        "mean = np.mean(arr)\n",
        "median = np.median(arr)\n",
        "q1 = np.percentile(arr, 25)\n",
        "q2 = np.percentile(arr, 50)\n",
        "q3 = np.percentile(arr, 75)\n",
        "percentile_20 = np.percentile(arr, 20)\n",
        "print(f\"Tổng mảng: {sum}\")\n",
        "print(f\"Giá trị trung bình: {mean}\")\n",
        "print(f\"Giá trị trung vị: {median}\")\n",
        "print(f\"Q1: {q1}\")\n",
        "print(f\"Q2: {q2}\")\n",
        "print(f\"Q3: {q3}\")\n",
        "print(f\"Phân vị 20: {percentile_20}\")"
      ]
    },
    {
      "cell_type": "markdown",
      "id": "e4eb6cc6",
      "metadata": {
        "id": "e4eb6cc6"
      },
      "source": [
        "---\n",
        "\n",
        "## PANDAS"
      ]
    },
    {
      "cell_type": "markdown",
      "id": "01e2bed7",
      "metadata": {
        "id": "01e2bed7"
      },
      "source": [
        "Thông tin các bộ dữ liệu:\n",
        "\n",
        "- `car-sales.csv`: bộ dữ liệu chứa thông tin của các ôtô cũ ở một cửa hàng\n"
      ]
    },
    {
      "cell_type": "markdown",
      "id": "9314552d",
      "metadata": {
        "id": "9314552d"
      },
      "source": [
        "### 1. Đọc dữ liệu"
      ]
    },
    {
      "cell_type": "code",
      "execution_count": null,
      "id": "47ca9dc8",
      "metadata": {
        "colab": {
          "base_uri": "https://localhost:8080/",
          "height": 265
        },
        "id": "47ca9dc8",
        "outputId": "a63426fb-4b26-4fc3-cfd8-ffa6ccace41f"
      },
      "outputs": [
        {
          "output_type": "display_data",
          "data": {
            "text/plain": [
              "<IPython.core.display.HTML object>"
            ],
            "text/html": [
              "\n",
              "     <input type=\"file\" id=\"files-13a5cb4e-af09-4889-973e-809e2b319a45\" name=\"files[]\" multiple disabled\n",
              "        style=\"border:none\" />\n",
              "     <output id=\"result-13a5cb4e-af09-4889-973e-809e2b319a45\">\n",
              "      Upload widget is only available when the cell has been executed in the\n",
              "      current browser session. Please rerun this cell to enable.\n",
              "      </output>\n",
              "      <script>// Copyright 2017 Google LLC\n",
              "//\n",
              "// Licensed under the Apache License, Version 2.0 (the \"License\");\n",
              "// you may not use this file except in compliance with the License.\n",
              "// You may obtain a copy of the License at\n",
              "//\n",
              "//      http://www.apache.org/licenses/LICENSE-2.0\n",
              "//\n",
              "// Unless required by applicable law or agreed to in writing, software\n",
              "// distributed under the License is distributed on an \"AS IS\" BASIS,\n",
              "// WITHOUT WARRANTIES OR CONDITIONS OF ANY KIND, either express or implied.\n",
              "// See the License for the specific language governing permissions and\n",
              "// limitations under the License.\n",
              "\n",
              "/**\n",
              " * @fileoverview Helpers for google.colab Python module.\n",
              " */\n",
              "(function(scope) {\n",
              "function span(text, styleAttributes = {}) {\n",
              "  const element = document.createElement('span');\n",
              "  element.textContent = text;\n",
              "  for (const key of Object.keys(styleAttributes)) {\n",
              "    element.style[key] = styleAttributes[key];\n",
              "  }\n",
              "  return element;\n",
              "}\n",
              "\n",
              "// Max number of bytes which will be uploaded at a time.\n",
              "const MAX_PAYLOAD_SIZE = 100 * 1024;\n",
              "\n",
              "function _uploadFiles(inputId, outputId) {\n",
              "  const steps = uploadFilesStep(inputId, outputId);\n",
              "  const outputElement = document.getElementById(outputId);\n",
              "  // Cache steps on the outputElement to make it available for the next call\n",
              "  // to uploadFilesContinue from Python.\n",
              "  outputElement.steps = steps;\n",
              "\n",
              "  return _uploadFilesContinue(outputId);\n",
              "}\n",
              "\n",
              "// This is roughly an async generator (not supported in the browser yet),\n",
              "// where there are multiple asynchronous steps and the Python side is going\n",
              "// to poll for completion of each step.\n",
              "// This uses a Promise to block the python side on completion of each step,\n",
              "// then passes the result of the previous step as the input to the next step.\n",
              "function _uploadFilesContinue(outputId) {\n",
              "  const outputElement = document.getElementById(outputId);\n",
              "  const steps = outputElement.steps;\n",
              "\n",
              "  const next = steps.next(outputElement.lastPromiseValue);\n",
              "  return Promise.resolve(next.value.promise).then((value) => {\n",
              "    // Cache the last promise value to make it available to the next\n",
              "    // step of the generator.\n",
              "    outputElement.lastPromiseValue = value;\n",
              "    return next.value.response;\n",
              "  });\n",
              "}\n",
              "\n",
              "/**\n",
              " * Generator function which is called between each async step of the upload\n",
              " * process.\n",
              " * @param {string} inputId Element ID of the input file picker element.\n",
              " * @param {string} outputId Element ID of the output display.\n",
              " * @return {!Iterable<!Object>} Iterable of next steps.\n",
              " */\n",
              "function* uploadFilesStep(inputId, outputId) {\n",
              "  const inputElement = document.getElementById(inputId);\n",
              "  inputElement.disabled = false;\n",
              "\n",
              "  const outputElement = document.getElementById(outputId);\n",
              "  outputElement.innerHTML = '';\n",
              "\n",
              "  const pickedPromise = new Promise((resolve) => {\n",
              "    inputElement.addEventListener('change', (e) => {\n",
              "      resolve(e.target.files);\n",
              "    });\n",
              "  });\n",
              "\n",
              "  const cancel = document.createElement('button');\n",
              "  inputElement.parentElement.appendChild(cancel);\n",
              "  cancel.textContent = 'Cancel upload';\n",
              "  const cancelPromise = new Promise((resolve) => {\n",
              "    cancel.onclick = () => {\n",
              "      resolve(null);\n",
              "    };\n",
              "  });\n",
              "\n",
              "  // Wait for the user to pick the files.\n",
              "  const files = yield {\n",
              "    promise: Promise.race([pickedPromise, cancelPromise]),\n",
              "    response: {\n",
              "      action: 'starting',\n",
              "    }\n",
              "  };\n",
              "\n",
              "  cancel.remove();\n",
              "\n",
              "  // Disable the input element since further picks are not allowed.\n",
              "  inputElement.disabled = true;\n",
              "\n",
              "  if (!files) {\n",
              "    return {\n",
              "      response: {\n",
              "        action: 'complete',\n",
              "      }\n",
              "    };\n",
              "  }\n",
              "\n",
              "  for (const file of files) {\n",
              "    const li = document.createElement('li');\n",
              "    li.append(span(file.name, {fontWeight: 'bold'}));\n",
              "    li.append(span(\n",
              "        `(${file.type || 'n/a'}) - ${file.size} bytes, ` +\n",
              "        `last modified: ${\n",
              "            file.lastModifiedDate ? file.lastModifiedDate.toLocaleDateString() :\n",
              "                                    'n/a'} - `));\n",
              "    const percent = span('0% done');\n",
              "    li.appendChild(percent);\n",
              "\n",
              "    outputElement.appendChild(li);\n",
              "\n",
              "    const fileDataPromise = new Promise((resolve) => {\n",
              "      const reader = new FileReader();\n",
              "      reader.onload = (e) => {\n",
              "        resolve(e.target.result);\n",
              "      };\n",
              "      reader.readAsArrayBuffer(file);\n",
              "    });\n",
              "    // Wait for the data to be ready.\n",
              "    let fileData = yield {\n",
              "      promise: fileDataPromise,\n",
              "      response: {\n",
              "        action: 'continue',\n",
              "      }\n",
              "    };\n",
              "\n",
              "    // Use a chunked sending to avoid message size limits. See b/62115660.\n",
              "    let position = 0;\n",
              "    do {\n",
              "      const length = Math.min(fileData.byteLength - position, MAX_PAYLOAD_SIZE);\n",
              "      const chunk = new Uint8Array(fileData, position, length);\n",
              "      position += length;\n",
              "\n",
              "      const base64 = btoa(String.fromCharCode.apply(null, chunk));\n",
              "      yield {\n",
              "        response: {\n",
              "          action: 'append',\n",
              "          file: file.name,\n",
              "          data: base64,\n",
              "        },\n",
              "      };\n",
              "\n",
              "      let percentDone = fileData.byteLength === 0 ?\n",
              "          100 :\n",
              "          Math.round((position / fileData.byteLength) * 100);\n",
              "      percent.textContent = `${percentDone}% done`;\n",
              "\n",
              "    } while (position < fileData.byteLength);\n",
              "  }\n",
              "\n",
              "  // All done.\n",
              "  yield {\n",
              "    response: {\n",
              "      action: 'complete',\n",
              "    }\n",
              "  };\n",
              "}\n",
              "\n",
              "scope.google = scope.google || {};\n",
              "scope.google.colab = scope.google.colab || {};\n",
              "scope.google.colab._files = {\n",
              "  _uploadFiles,\n",
              "  _uploadFilesContinue,\n",
              "};\n",
              "})(self);\n",
              "</script> "
            ]
          },
          "metadata": {}
        },
        {
          "output_type": "stream",
          "name": "stdout",
          "text": [
            "Saving car-sales.csv to car-sales.csv\n",
            "  Manufacturer Colour  Odometer  Doors    Price\n",
            "0       Toyota  White    150043      4   4000.0\n",
            "1        Honda    Red     87899      4   5000.0\n",
            "2       Toyota   Blue     32549      3   7000.0\n",
            "3          BMW  Black     11179      5  22000.0\n",
            "4       Nissan  White    213095      4   3500.0\n",
            "5       Toyota  Green     99213      4   4500.0\n",
            "6        Honda   Blue     45698      4   7500.0\n",
            "7        Honda   Blue     54738      4   7000.0\n",
            "8       Toyota  White     60000      4   6250.0\n",
            "9       Nissan  White     31600      4   9700.0\n"
          ]
        }
      ],
      "source": [
        "# YOUR CODE HERE\n",
        "import pandas as pd\n",
        "import io\n",
        "from google.colab import files\n",
        "uploaded = files.upload()\n",
        "df = pd.read_csv(io.BytesIO(uploaded['car-sales.csv']))\n",
        "print(df)"
      ]
    },
    {
      "cell_type": "markdown",
      "id": "06a61507",
      "metadata": {
        "id": "06a61507"
      },
      "source": [
        "### 2. Dữ liệu có bao nhiêu dòng, bao nhiêu cột\n",
        "\n",
        "Đáp án: (10 dòng, 5 cột)"
      ]
    },
    {
      "cell_type": "code",
      "execution_count": null,
      "id": "a18bcab5",
      "metadata": {
        "colab": {
          "base_uri": "https://localhost:8080/"
        },
        "id": "a18bcab5",
        "outputId": "3a561848-2ed1-4178-e006-6c8663966416"
      },
      "outputs": [
        {
          "output_type": "stream",
          "name": "stdout",
          "text": [
            "Dữ liệu có 10 dòng, 5 cột\n"
          ]
        }
      ],
      "source": [
        "# YOUR CODE HERE\n",
        "a=df.shape\n",
        "print(f\"Dữ liệu có {a[0]} dòng, {a[1]} cột\")"
      ]
    },
    {
      "cell_type": "markdown",
      "id": "506c2c6c",
      "metadata": {
        "id": "506c2c6c"
      },
      "source": [
        "- Định tính (phân loại): Manufacturer, Colour\n",
        "- Định lượng: Odemeter, Price, Doors"
      ]
    },
    {
      "cell_type": "code",
      "execution_count": null,
      "id": "d7563796",
      "metadata": {
        "colab": {
          "base_uri": "https://localhost:8080/"
        },
        "id": "d7563796",
        "outputId": "87b8b2ff-26b2-4287-ee8e-e02ae05a9549"
      },
      "outputs": [
        {
          "output_type": "stream",
          "name": "stdout",
          "text": [
            "Qualitative columns:\n",
            "  Manufacturer Colour\n",
            "0       Toyota  White\n",
            "1        Honda    Red\n",
            "2       Toyota   Blue\n",
            "3          BMW  Black\n",
            "4       Nissan  White\n",
            "5       Toyota  Green\n",
            "6        Honda   Blue\n",
            "7        Honda   Blue\n",
            "8       Toyota  White\n",
            "9       Nissan  White\n",
            "\n",
            "Quantitative columns:\n",
            "   Odometer    Price  Doors\n",
            "0    150043   4000.0      4\n",
            "1     87899   5000.0      4\n",
            "2     32549   7000.0      3\n",
            "3     11179  22000.0      5\n",
            "4    213095   3500.0      4\n"
          ]
        }
      ],
      "source": [
        "# YOUR CODE HERE\n",
        "qualitative_cols = ['Manufacturer', 'Colour']\n",
        "quantitative_cols = ['Odometer', 'Price', 'Doors']\n",
        "\n",
        "print(\"Qualitative columns:\")\n",
        "print(df[qualitative_cols].head(10))\n",
        "\n",
        "print(\"\\nQuantitative columns:\")\n",
        "print(df[quantitative_cols].head())"
      ]
    },
    {
      "cell_type": "markdown",
      "id": "0e06a27b",
      "metadata": {
        "id": "0e06a27b"
      },
      "source": [
        "### 3. Trong dữ liệu có thông tin của bao nhiêu xe?\n",
        "\n",
        "Đáp án: 10 xe"
      ]
    },
    {
      "cell_type": "code",
      "execution_count": null,
      "id": "d2223d39",
      "metadata": {
        "colab": {
          "base_uri": "https://localhost:8080/"
        },
        "id": "d2223d39",
        "outputId": "ca56e664-e25f-454c-b4d5-4ee289834dd9"
      },
      "outputs": [
        {
          "output_type": "stream",
          "name": "stdout",
          "text": [
            "Trong dữ liệu có thông tin của 10 xe\n"
          ]
        }
      ],
      "source": [
        "# YOUR CODE HERE\n",
        "num_cars = df.shape[0]\n",
        "print(f\"Trong dữ liệu có thông tin của {num_cars} xe\")"
      ]
    },
    {
      "cell_type": "markdown",
      "id": "9fab6bd4",
      "metadata": {
        "id": "9fab6bd4"
      },
      "source": [
        "### 4. Đếm số xe theo theo hãng\n",
        "\n",
        "Đáp án: Toyota: 4 xe, Honda: 3 xe, Nissan: 2 xe, BMW: 1 xe"
      ]
    },
    {
      "cell_type": "code",
      "execution_count": null,
      "id": "ff20c98e",
      "metadata": {
        "colab": {
          "base_uri": "https://localhost:8080/"
        },
        "id": "ff20c98e",
        "outputId": "fdfe74b6-24aa-465a-b5b5-75c0a54f2794"
      },
      "outputs": [
        {
          "output_type": "stream",
          "name": "stdout",
          "text": [
            "Manufacturer\n",
            "BMW       1\n",
            "Honda     3\n",
            "Nissan    2\n",
            "Toyota    4\n",
            "dtype: int64\n"
          ]
        }
      ],
      "source": [
        "# YOUR CODE HERE\n",
        "num_cars_Manufacturer = df.groupby('Manufacturer').size()#df['Manufacturer'].value_counts()\n",
        "print(num_cars_Manufacturer)"
      ]
    },
    {
      "cell_type": "markdown",
      "id": "8a29bdc4",
      "metadata": {
        "id": "8a29bdc4"
      },
      "source": [
        "### 5. Đếm số xe theo màu\n"
      ]
    },
    {
      "cell_type": "code",
      "execution_count": null,
      "id": "e303e538",
      "metadata": {
        "colab": {
          "base_uri": "https://localhost:8080/"
        },
        "id": "e303e538",
        "outputId": "3177bceb-10e5-47d8-d725-385a9a686f3f"
      },
      "outputs": [
        {
          "output_type": "stream",
          "name": "stdout",
          "text": [
            "Colour\n",
            "White    4\n",
            "Blue     3\n",
            "Red      1\n",
            "Black    1\n",
            "Green    1\n",
            "Name: count, dtype: int64\n"
          ]
        }
      ],
      "source": [
        "num_cars_Colour = df['Colour'].value_counts()#df.groupby('Colour').size()\n",
        "print(num_cars_Colour)"
      ]
    },
    {
      "cell_type": "markdown",
      "id": "7c911d06",
      "metadata": {
        "id": "7c911d06"
      },
      "source": [
        "### 6. Tổng giá trị các xe trong cửa hàng\n",
        "\n",
        "Đáp án: 76450 USD\n"
      ]
    },
    {
      "cell_type": "code",
      "execution_count": null,
      "id": "67f87531",
      "metadata": {
        "colab": {
          "base_uri": "https://localhost:8080/"
        },
        "id": "67f87531",
        "outputId": "ed000f4d-87ad-4bda-e870-5854b74fc15c"
      },
      "outputs": [
        {
          "output_type": "stream",
          "name": "stdout",
          "text": [
            "76450.0 USD\n"
          ]
        }
      ],
      "source": [
        "# YOUR CODE HERE\n",
        "sum_Price = df['Price'].sum()\n",
        "print(f\"{sum_Price} USD\")"
      ]
    },
    {
      "cell_type": "markdown",
      "id": "6050e3b0",
      "metadata": {
        "id": "6050e3b0"
      },
      "source": [
        "### 7. Top 3 xe có giá cao nhất\n"
      ]
    },
    {
      "cell_type": "code",
      "execution_count": null,
      "id": "be72996a",
      "metadata": {
        "colab": {
          "base_uri": "https://localhost:8080/"
        },
        "id": "be72996a",
        "outputId": "a1762675-83aa-473f-e6ea-91689b0fb13e"
      },
      "outputs": [
        {
          "output_type": "stream",
          "name": "stdout",
          "text": [
            "  Manufacturer Colour  Odometer  Doors    Price\n",
            "3          BMW  Black     11179      5  22000.0\n",
            "9       Nissan  White     31600      4   9700.0\n",
            "6        Honda   Blue     45698      4   7500.0\n"
          ]
        }
      ],
      "source": [
        "# YOUR CODE HERE\n",
        "print(df.sort_values(by = 'Price', ascending = False).head(3))\n"
      ]
    },
    {
      "cell_type": "markdown",
      "id": "8f6cc9c2",
      "metadata": {
        "id": "8f6cc9c2"
      },
      "source": [
        "### 8. Top 3 xe đã chạy nhiều cây số (km)nhất (Odometer)\n",
        "\n",
        "Đáp án:\n",
        "- Xe Nissan, White, 213095 km\n",
        "- Xe Toyota, White, 150043 km\n",
        "- Xe Toyota, Green, 99213 km"
      ]
    },
    {
      "cell_type": "code",
      "execution_count": null,
      "id": "ae2e8c30",
      "metadata": {
        "colab": {
          "base_uri": "https://localhost:8080/"
        },
        "id": "ae2e8c30",
        "outputId": "a4bb8af3-2b0e-4c36-af0e-d1ef3e7d956f"
      },
      "outputs": [
        {
          "output_type": "stream",
          "name": "stdout",
          "text": [
            "  Manufacturer Colour  Odometer  Doors   Price\n",
            "4       Nissan  White    213095      4  3500.0\n",
            "0       Toyota  White    150043      4  4000.0\n",
            "5       Toyota  Green     99213      4  4500.0\n"
          ]
        }
      ],
      "source": [
        "# YOUR CODE HERE\n",
        "print(df.sort_values(by = 'Odometer', ascending = False).head(3))"
      ]
    },
    {
      "cell_type": "markdown",
      "id": "ffc04c82",
      "metadata": {
        "id": "ffc04c82"
      },
      "source": [
        "### 9. Khảo sát xe của hãng Honda\n",
        "\n",
        "- Tính tỷ lệ xe Honda trong dữ liệu của cửa hàng (0.3)\n",
        "- Cho biết giá trung bình của xe hãng Honda của cửa hàng (6500)\n",
        "- Cho biết các xe của hãng Honda trong cửa hàng có những màu sắc nào (Red, Blue)"
      ]
    },
    {
      "cell_type": "code",
      "execution_count": null,
      "id": "e2c234f5",
      "metadata": {
        "colab": {
          "base_uri": "https://localhost:8080/"
        },
        "id": "e2c234f5",
        "outputId": "80ef1ed9-9119-4c71-e53c-91e724f85732"
      },
      "outputs": [
        {
          "output_type": "stream",
          "name": "stdout",
          "text": [
            "  Manufacturer Colour  Odometer  Doors   Price\n",
            "1        Honda    Red     87899      4  5000.0\n",
            "6        Honda   Blue     45698      4  7500.0\n",
            "7        Honda   Blue     54738      4  7000.0\n",
            "Tỷ lệ xe Honda trong dữ liệu của cửa hàng: 0.3\n",
            "Giá trung bình của xe hãng Honda của cửa hàng: 6500.00\n",
            "Các xe của hãng Honda trong cửa hàng có những màu sắc: ['Red' 'Blue']\n"
          ]
        }
      ],
      "source": [
        "# YOUR CODE HERE\n",
        "honda = df[df['Manufacturer'] == 'Honda']\n",
        "print(honda)\n",
        "print(f\"Tỷ lệ xe Honda trong dữ liệu của cửa hàng: {len(honda) / len(df):.1f}\")\n",
        "print(f\"Giá trung bình của xe hãng Honda của cửa hàng: {honda['Price'].mean():.2f}\")\n",
        "print(f\"Các xe của hãng Honda trong cửa hàng có những màu sắc: {honda['Colour'].unique()}\")"
      ]
    },
    {
      "cell_type": "markdown",
      "id": "852ceeba",
      "metadata": {
        "id": "852ceeba"
      },
      "source": [
        "### 10. Tính toán các giá trị sau của  thuộc tính giá ('Price')\n",
        "\n",
        "- Giá trung bình các xe (7645)\n",
        "- Giá trị trung vị các xe (6625)\n",
        "- Miền giá trị của xe (18500)\n",
        "- Miền phân vị của xe (2750)\n",
        "- Điểm phân vị 0.4 và 0.6 của giá ([5750, 7000])"
      ]
    },
    {
      "cell_type": "code",
      "execution_count": null,
      "id": "f43fe1ac",
      "metadata": {
        "colab": {
          "base_uri": "https://localhost:8080/"
        },
        "id": "f43fe1ac",
        "outputId": "88dce61a-d2e6-4a58-ecbe-5e65dda13c01"
      },
      "outputs": [
        {
          "output_type": "stream",
          "name": "stdout",
          "text": [
            "Giá trung bình các xe: 7645.00\n",
            "Giá trị trung vị các xe: 6625.00\n",
            "Miền giá trị của xe: 18500.00\n",
            "Miền phân vị của xe: 2750.00\n",
            "Điểm phân vị 0.4 và 0.6 của giá: ([5750.0,7000.0])\n"
          ]
        }
      ],
      "source": [
        "# YOUR CODE HERE\n",
        "print(f\"Giá trung bình các xe: {df['Price'].mean():.2f}\")\n",
        "print(f\"Giá trị trung vị các xe: {df['Price'].median():.2f}\")\n",
        "print(f\"Miền giá trị của xe: {df['Price'].max() - df['Price'].min():.2f}\")\n",
        "print(f\"Miền phân vị của xe: {np.percentile(df['Price'], 75) - np.percentile(df['Price'], 25):.2f}\")\n",
        "print(f\"Điểm phân vị 0.4 và 0.6 của giá: ([{np.percentile(df['Price'], 40):.1f},{np.percentile(df['Price'], 60):.1f}])\")"
      ]
    },
    {
      "cell_type": "markdown",
      "id": "f97c2d3c",
      "metadata": {
        "id": "f97c2d3c"
      },
      "source": [
        "---"
      ]
    }
  ],
  "metadata": {
    "kernelspec": {
      "display_name": "Python 3 (ipykernel)",
      "language": "python",
      "name": "python3"
    },
    "language_info": {
      "codemirror_mode": {
        "name": "ipython",
        "version": 3
      },
      "file_extension": ".py",
      "mimetype": "text/x-python",
      "name": "python",
      "nbconvert_exporter": "python",
      "pygments_lexer": "ipython3",
      "version": "3.9.7"
    },
    "colab": {
      "provenance": []
    }
  },
  "nbformat": 4,
  "nbformat_minor": 5
}